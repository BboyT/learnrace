{
 "cells": [
  {
   "cell_type": "markdown",
   "metadata": {},
   "source": [
    "# 特征工程"
   ]
  },
  {
   "cell_type": "markdown",
   "metadata": {},
   "source": [
    "对于特征进行进一步分析，并对于数据进行处理\n",
    "常见特征工程：\n",
    "    * 异常值处理\n",
    "    * 特征归一化/标准化\n",
    "    * 数据分桶\n",
    "    * 缺失值处理\n",
    "    * 特征构造\n",
    "    * 特征筛选\n",
    "    * 降维"
   ]
  },
  {
   "cell_type": "code",
   "execution_count": 1,
   "metadata": {},
   "outputs": [],
   "source": [
    "import pandas as pd\n",
    "import numpy as np\n",
    "import matplotlib\n",
    "import matplotlib.pyplot as plt\n",
    "import seaborn as sns\n",
    "from operator import itemgetter\n",
    "from sklearn import preprocessing\n",
    "%matplotlib inline"
   ]
  },
  {
   "cell_type": "code",
   "execution_count": 2,
   "metadata": {},
   "outputs": [
    {
     "name": "stdout",
     "output_type": "stream",
     "text": [
      "Train data shape: (4048, 66)\n",
      "TestA data shape: (1737, 66)\n"
     ]
    }
   ],
   "source": [
    "## 通过Pandas对于数据进行读取 (pandas是一个很友好的数据读取函数库)\n",
    "Train_data = pd.read_csv('train.csv', sep=',')\n",
    "Test_data = pd.read_csv('test.csv', sep=',')\n",
    "## 输出数据的大小信息\n",
    "print('Train data shape:',Train_data.shape)\n",
    "print('TestA data shape:',Test_data.shape)"
   ]
  },
  {
   "cell_type": "code",
   "execution_count": 3,
   "metadata": {},
   "outputs": [
    {
     "data": {
      "text/html": [
       "<div>\n",
       "<style scoped>\n",
       "    .dataframe tbody tr th:only-of-type {\n",
       "        vertical-align: middle;\n",
       "    }\n",
       "\n",
       "    .dataframe tbody tr th {\n",
       "        vertical-align: top;\n",
       "    }\n",
       "\n",
       "    .dataframe thead th {\n",
       "        text-align: right;\n",
       "    }\n",
       "</style>\n",
       "<table border=\"1\" class=\"dataframe\">\n",
       "  <thead>\n",
       "    <tr style=\"text-align: right;\">\n",
       "      <th></th>\n",
       "      <th>positiveculture_poe</th>\n",
       "      <th>age</th>\n",
       "      <th>is_male</th>\n",
       "      <th>race_black</th>\n",
       "      <th>race_white</th>\n",
       "      <th>race_hispanic</th>\n",
       "      <th>race_other</th>\n",
       "      <th>height</th>\n",
       "      <th>weight</th>\n",
       "      <th>aniongap_min</th>\n",
       "      <th>...</th>\n",
       "      <th>resprate_max</th>\n",
       "      <th>resprate_mean</th>\n",
       "      <th>tempc_min</th>\n",
       "      <th>tempc_max</th>\n",
       "      <th>tempc_mean</th>\n",
       "      <th>spo2_min</th>\n",
       "      <th>spo2_max</th>\n",
       "      <th>spo2_mean</th>\n",
       "      <th>glucose_mean</th>\n",
       "      <th>icu_los</th>\n",
       "    </tr>\n",
       "  </thead>\n",
       "  <tbody>\n",
       "    <tr>\n",
       "      <th>0</th>\n",
       "      <td>0</td>\n",
       "      <td>45.7505</td>\n",
       "      <td>1</td>\n",
       "      <td>0</td>\n",
       "      <td>0</td>\n",
       "      <td>0</td>\n",
       "      <td>1</td>\n",
       "      <td>178.00</td>\n",
       "      <td>250.0</td>\n",
       "      <td>11</td>\n",
       "      <td>...</td>\n",
       "      <td>29</td>\n",
       "      <td>24.347826</td>\n",
       "      <td>37.666667</td>\n",
       "      <td>38.555556</td>\n",
       "      <td>38.101852</td>\n",
       "      <td>92</td>\n",
       "      <td>96</td>\n",
       "      <td>94.695652</td>\n",
       "      <td>196.7</td>\n",
       "      <td>2.0142</td>\n",
       "    </tr>\n",
       "    <tr>\n",
       "      <th>1</th>\n",
       "      <td>0</td>\n",
       "      <td>83.6432</td>\n",
       "      <td>0</td>\n",
       "      <td>0</td>\n",
       "      <td>1</td>\n",
       "      <td>0</td>\n",
       "      <td>0</td>\n",
       "      <td>160.00</td>\n",
       "      <td>58.1</td>\n",
       "      <td>15</td>\n",
       "      <td>...</td>\n",
       "      <td>33</td>\n",
       "      <td>21.135135</td>\n",
       "      <td>36.055556</td>\n",
       "      <td>36.500000</td>\n",
       "      <td>36.314815</td>\n",
       "      <td>96</td>\n",
       "      <td>100</td>\n",
       "      <td>98.558824</td>\n",
       "      <td>90.0</td>\n",
       "      <td>2.0708</td>\n",
       "    </tr>\n",
       "    <tr>\n",
       "      <th>2</th>\n",
       "      <td>0</td>\n",
       "      <td>64.3080</td>\n",
       "      <td>1</td>\n",
       "      <td>0</td>\n",
       "      <td>1</td>\n",
       "      <td>0</td>\n",
       "      <td>0</td>\n",
       "      <td>177.80</td>\n",
       "      <td>95.1</td>\n",
       "      <td>8</td>\n",
       "      <td>...</td>\n",
       "      <td>40</td>\n",
       "      <td>24.212121</td>\n",
       "      <td>36.222222</td>\n",
       "      <td>37.444444</td>\n",
       "      <td>37.027778</td>\n",
       "      <td>90</td>\n",
       "      <td>99</td>\n",
       "      <td>94.310345</td>\n",
       "      <td>170.0</td>\n",
       "      <td>4.2641</td>\n",
       "    </tr>\n",
       "    <tr>\n",
       "      <th>3</th>\n",
       "      <td>1</td>\n",
       "      <td>56.5050</td>\n",
       "      <td>1</td>\n",
       "      <td>0</td>\n",
       "      <td>1</td>\n",
       "      <td>0</td>\n",
       "      <td>0</td>\n",
       "      <td>182.88</td>\n",
       "      <td>113.4</td>\n",
       "      <td>14</td>\n",
       "      <td>...</td>\n",
       "      <td>23</td>\n",
       "      <td>16.954545</td>\n",
       "      <td>37.277778</td>\n",
       "      <td>37.388889</td>\n",
       "      <td>37.333333</td>\n",
       "      <td>91</td>\n",
       "      <td>100</td>\n",
       "      <td>95.454545</td>\n",
       "      <td>135.5</td>\n",
       "      <td>0.9250</td>\n",
       "    </tr>\n",
       "    <tr>\n",
       "      <th>4</th>\n",
       "      <td>1</td>\n",
       "      <td>69.3102</td>\n",
       "      <td>0</td>\n",
       "      <td>0</td>\n",
       "      <td>1</td>\n",
       "      <td>0</td>\n",
       "      <td>0</td>\n",
       "      <td>165.10</td>\n",
       "      <td>101.0</td>\n",
       "      <td>13</td>\n",
       "      <td>...</td>\n",
       "      <td>25</td>\n",
       "      <td>20.700000</td>\n",
       "      <td>36.611111</td>\n",
       "      <td>38.111111</td>\n",
       "      <td>37.475309</td>\n",
       "      <td>95</td>\n",
       "      <td>100</td>\n",
       "      <td>98.974359</td>\n",
       "      <td>134.0</td>\n",
       "      <td>8.2287</td>\n",
       "    </tr>\n",
       "  </tbody>\n",
       "</table>\n",
       "<p>5 rows × 66 columns</p>\n",
       "</div>"
      ],
      "text/plain": [
       "   positiveculture_poe      age  is_male  race_black  race_white  \\\n",
       "0                    0  45.7505        1           0           0   \n",
       "1                    0  83.6432        0           0           1   \n",
       "2                    0  64.3080        1           0           1   \n",
       "3                    1  56.5050        1           0           1   \n",
       "4                    1  69.3102        0           0           1   \n",
       "\n",
       "   race_hispanic  race_other  height  weight  aniongap_min  ...  resprate_max  \\\n",
       "0              0           1  178.00   250.0            11  ...            29   \n",
       "1              0           0  160.00    58.1            15  ...            33   \n",
       "2              0           0  177.80    95.1             8  ...            40   \n",
       "3              0           0  182.88   113.4            14  ...            23   \n",
       "4              0           0  165.10   101.0            13  ...            25   \n",
       "\n",
       "   resprate_mean  tempc_min  tempc_max  tempc_mean  spo2_min  spo2_max  \\\n",
       "0      24.347826  37.666667  38.555556   38.101852        92        96   \n",
       "1      21.135135  36.055556  36.500000   36.314815        96       100   \n",
       "2      24.212121  36.222222  37.444444   37.027778        90        99   \n",
       "3      16.954545  37.277778  37.388889   37.333333        91       100   \n",
       "4      20.700000  36.611111  38.111111   37.475309        95       100   \n",
       "\n",
       "   spo2_mean  glucose_mean  icu_los  \n",
       "0  94.695652         196.7   2.0142  \n",
       "1  98.558824          90.0   2.0708  \n",
       "2  94.310345         170.0   4.2641  \n",
       "3  95.454545         135.5   0.9250  \n",
       "4  98.974359         134.0   8.2287  \n",
       "\n",
       "[5 rows x 66 columns]"
      ]
     },
     "execution_count": 3,
     "metadata": {},
     "output_type": "execute_result"
    }
   ],
   "source": [
    "Train_data.head()"
   ]
  },
  {
   "cell_type": "code",
   "execution_count": 4,
   "metadata": {},
   "outputs": [
    {
     "data": {
      "text/plain": [
       "Index(['positiveculture_poe', 'age', 'is_male', 'race_black', 'race_white',\n",
       "       'race_hispanic', 'race_other', 'height', 'weight', 'aniongap_min',\n",
       "       'aniongap_max', 'bicarbonate_min', 'bicarbonate_max', 'bilirubin_min',\n",
       "       'bilirubin_max', 'creatinine_min', 'creatinine_max', 'chloride_min',\n",
       "       'chloride_max', 'glucose_min', 'glucose_max', 'hematocrit_min',\n",
       "       'hematocrit_max', 'hemoglobin_min', 'hemoglobin_max', 'lactate_min',\n",
       "       'lactate_max', 'platelet_min', 'platelet_max', 'potassium_min',\n",
       "       'potassium_max', 'ptt_min', 'ptt_max', 'inr_min', 'inr_max', 'pt_min',\n",
       "       'pt_max', 'sodium_min', 'sodium_max', 'bun_min', 'bun_max', 'wbc_min',\n",
       "       'wbc_max', 'heartrate_min', 'heartrate_max', 'heartrate_mean',\n",
       "       'sysbp_min', 'sysbp_max', 'sysbp_mean', 'diasbp_min', 'diasbp_max',\n",
       "       'diasbp_mean', 'meanbp_min', 'meanbp_max', 'meanbp_mean',\n",
       "       'resprate_min', 'resprate_max', 'resprate_mean', 'tempc_min',\n",
       "       'tempc_max', 'tempc_mean', 'spo2_min', 'spo2_max', 'spo2_mean',\n",
       "       'glucose_mean', 'icu_los'],\n",
       "      dtype='object')"
      ]
     },
     "execution_count": 4,
     "metadata": {},
     "output_type": "execute_result"
    }
   ],
   "source": [
    "Train_data.columns"
   ]
  },
  {
   "cell_type": "markdown",
   "metadata": {},
   "source": [
    "## 删除异常值"
   ]
  },
  {
   "cell_type": "code",
   "execution_count": 5,
   "metadata": {},
   "outputs": [],
   "source": [
    "# 这里我包装了一个异常值处理的代码，可以随便调用。\n",
    "# 感谢阿泽大佬\n",
    "def outliers_proc(data, col_name, scale=3):\n",
    "    \"\"\"\n",
    "    用于清洗异常值，默认用 box_plot（scale=3）进行清洗\n",
    "    :param data: 接收 pandas 数据格式\n",
    "    :param col_name: pandas 列名\n",
    "    :param scale: 尺度\n",
    "    :return:\n",
    "    \"\"\"\n",
    "\n",
    "    def box_plot_outliers(data_ser, box_scale):\n",
    "        \"\"\"\n",
    "        利用箱线图去除异常值\n",
    "        :param data_ser: 接收 pandas.Series 数据格式\n",
    "        :param box_scale: 箱线图尺度，\n",
    "        :return:\n",
    "        \"\"\"\n",
    "        iqr = box_scale * (data_ser.quantile(0.75) - data_ser.quantile(0.25))\n",
    "        val_low = data_ser.quantile(0.25) - iqr\n",
    "        val_up = data_ser.quantile(0.75) + iqr\n",
    "        rule_low = (data_ser < val_low)\n",
    "        rule_up = (data_ser > val_up)\n",
    "        return (rule_low, rule_up), (val_low, val_up)\n",
    "\n",
    "    data_n = data.copy()\n",
    "    data_series = data_n[col_name]\n",
    "    rule, value = box_plot_outliers(data_series, box_scale=scale)\n",
    "    index = np.arange(data_series.shape[0])[rule[0] | rule[1]]\n",
    "    print(\"Delete number is: {}\".format(len(index)))\n",
    "    data_n = data_n.drop(index)\n",
    "    data_n.reset_index(drop=True, inplace=True)\n",
    "    print(\"Now column number is: {}\".format(data_n.shape[0]))\n",
    "    index_low = np.arange(data_series.shape[0])[rule[0]]\n",
    "    outliers = data_series.iloc[index_low]\n",
    "    print(\"Description of data less than the lower bound is:\")\n",
    "    print(pd.Series(outliers).describe())\n",
    "    index_up = np.arange(data_series.shape[0])[rule[1]]\n",
    "    outliers = data_series.iloc[index_up]\n",
    "    print(\"Description of data larger than the upper bound is:\")\n",
    "    print(pd.Series(outliers).describe())\n",
    "    \n",
    "    fig, ax = plt.subplots(1, 2, figsize=(10, 7))\n",
    "    sns.boxplot(y=data[col_name], data=data, palette=\"Set1\", ax=ax[0])\n",
    "    sns.boxplot(y=data_n[col_name], data=data_n, palette=\"Set1\", ax=ax[1])\n",
    "    return data_n"
   ]
  },
  {
   "cell_type": "code",
   "execution_count": 6,
   "metadata": {},
   "outputs": [
    {
     "name": "stdout",
     "output_type": "stream",
     "text": [
      "Delete number is: 21\n",
      "Now column number is: 4027\n",
      "Description of data less than the lower bound is:\n",
      "count    0.0\n",
      "mean     NaN\n",
      "std      NaN\n",
      "min      NaN\n",
      "25%      NaN\n",
      "50%      NaN\n",
      "75%      NaN\n",
      "max      NaN\n",
      "Name: weight, dtype: float64\n",
      "Description of data larger than the upper bound is:\n",
      "count     21.000000\n",
      "mean     249.160952\n",
      "std      127.391721\n",
      "min      179.000000\n",
      "25%      190.000000\n",
      "50%      204.120000\n",
      "75%      232.700000\n",
      "max      670.000000\n",
      "Name: weight, dtype: float64\n"
     ]
    },
    {
     "data": {
      "image/png": "[encoded data removed]",
      "text/plain": [
       "<Figure size 720x504 with 2 Axes>"
      ]
     },
     "metadata": {
      "needs_background": "light"
     },
     "output_type": "display_data"
    }
   ],
   "source": [
    "# 删掉一些异常数据，以 weighyt为例,人体的体重不可能最小为1，医学上根据常识可以判断一些常见指标是否为异常。\n",
    "# 但是，医学中，尤其是ICU中，患者的病理生理会有很大的不同，不能随意的处理异常值\n",
    "# 临床患者中，极端情况是有的，数据中出现这里数据处理一定要结合临床。\n",
    "# weight,meanbp_min\n",
    "Train_data = outliers_proc(Train_data, 'weight', scale=3)"
   ]
  },
  {
   "cell_type": "code",
   "execution_count": 7,
   "metadata": {
    "scrolled": true
   },
   "outputs": [
    {
     "name": "stdout",
     "output_type": "stream",
     "text": [
      "Delete number is: 28\n",
      "Now column number is: 3999\n",
      "Description of data less than the lower bound is:\n",
      "count    28.0000\n",
      "mean      2.0000\n",
      "std       0.7698\n",
      "min       1.0000\n",
      "25%       1.0000\n",
      "50%       2.0000\n",
      "75%       3.0000\n",
      "max       3.0000\n",
      "Name: meanbp_min, dtype: float64\n",
      "Description of data larger than the upper bound is:\n",
      "count    0.0\n",
      "mean     NaN\n",
      "std      NaN\n",
      "min      NaN\n",
      "25%      NaN\n",
      "50%      NaN\n",
      "75%      NaN\n",
      "max      NaN\n",
      "Name: meanbp_min, dtype: float64\n"
     ]
    },
    {
     "data": {
      "image/png": "[encoded data removed]",
      "text/plain": [
       "<Figure size 720x504 with 2 Axes>"
      ]
     },
     "metadata": {
      "needs_background": "light"
     },
     "output_type": "display_data"
    }
   ],
   "source": [
    "# meanbp_min\n",
    "Train_data = outliers_proc(Train_data, 'meanbp_min', scale=3)"
   ]
  },
  {
   "cell_type": "markdown",
   "metadata": {},
   "source": [
    "### 直播讲解了一些其他方法：（以后再尝试、及补充）\n",
    "* 3δ原则\n",
    "* Z-score\n",
    "* DBSCAN\n",
    "* 孤立森林|Isolation Forest\n",
    "处理方法：用平均值来修正，删除含有异常值的记录，将异常值视为缺失值，待合并处理缺失值的方法一起处理"
   ]
  },
  {
   "cell_type": "markdown",
   "metadata": {},
   "source": [
    "## 特征构造"
   ]
  },
  {
   "cell_type": "code",
   "execution_count": 8,
   "metadata": {},
   "outputs": [],
   "source": [
    "# 训练集和测试集放在一起，方便构造特征\n",
    "Train_data['train']=1\n",
    "Test_data['train']=0\n",
    "data = pd.concat([Train_data, Test_data], ignore_index=True)"
   ]
  },
  {
   "cell_type": "markdown",
   "metadata": {},
   "source": [
    "* 医学中处理时间序列也是比较常见，第一天做的检查，第二天做的检查，都可以作为时间标签,以及上午或者下午的体温，尿量\n",
    "* 心电、脑电都是有时间戳\n",
    "* 出院时间点减去入院时间点就是住院时间。\n",
    "* 死亡时间减去住院时间得到时长的可以成为院后生存时间，对于ICU比较有意义的是28天生存率，90天生存率。肿瘤就是3年、5年的生存情况。\n"
   ]
  },
  {
   "cell_type": "markdown",
   "metadata": {},
   "source": [
    "*  删除缺失数据占总样本量过大，7.5%，那么可以保留不去删除,可以先放着，因为如果我们 XGBoost 之类的决策树，其本身就能处理缺失值，所以可以不用管；\n",
    "* 这里我自己的数据已经用R填补了缺失值，因为准备用LSTM网络建模，所有的缺失值都填补了，但是当时没有学习这些，还是见的太少。"
   ]
  },
  {
   "cell_type": "markdown",
   "metadata": {},
   "source": [
    "看到先验只是有些疑问：\n",
    "* 不知道一些医学上的根据实验检查而得到的量表结果（也是经过某些运算得到的，根据结果打分，统计最后得分）算不算先验知识\n",
    "* 自我感觉量表应该是可以降维用"
   ]
  },
  {
   "cell_type": "code",
   "execution_count": 9,
   "metadata": {},
   "outputs": [],
   "source": [
    "'''\n",
    "# 计算某品牌的销售统计量，同学们还可以计算其他特征的统计量\n",
    "# 这里要以 train 的数据计算统计量\n",
    "Train_gb = Train_data.groupby(\"brand\")\n",
    "all_info = {}\n",
    "for kind, kind_data in Train_gb:\n",
    "    info = {}\n",
    "    kind_data = kind_data[kind_data['price'] > 0]\n",
    "    info['brand_amount'] = len(kind_data)\n",
    "    info['brand_price_max'] = kind_data.price.max()\n",
    "    info['brand_price_median'] = kind_data.price.median()\n",
    "    info['brand_price_min'] = kind_data.price.min()\n",
    "    info['brand_price_sum'] = kind_data.price.sum()\n",
    "    info['brand_price_std'] = kind_data.price.std()\n",
    "    info['brand_price_average'] = round(kind_data.price.sum() / (len(kind_data) + 1), 2)\n",
    "    all_info[kind] = info\n",
    "brand_fe = pd.DataFrame(all_info).T.reset_index().rename(columns={\"index\": \"brand\"})\n",
    "data = data.merge(brand_fe, how='left', on='brand')\n",
    "'''\n",
    "#  阿泽老师的这一段代码如果在分析亚组中可以修改而得到其他特征的统计量\n",
    "# 尝试根据性别来分亚组统计其他特征\n",
    "Train_gb = Train_data.groupby(\"is_male\")\n",
    "all_info = {}\n",
    "for kind, kind_data in Train_gb:\n",
    "    info = {}\n",
    "    kind_data = kind_data[kind_data['icu_los'] > 0]\n",
    "    info['is_male_amount'] = len(kind_data)\n",
    "    info['is_male_icu_los_max'] = kind_data.icu_los.max()\n",
    "    info['is_male_icu_los_median'] = kind_data.icu_los.median()\n",
    "    info['is_male_icu_los_min'] = kind_data.icu_los.min()\n",
    "    info['is_male_icu_los_sum'] = kind_data.icu_los.sum()\n",
    "    info['is_male_icu_los_std'] = kind_data.icu_los.std()\n",
    "    info['is_male_icu_los_average'] = round(kind_data.icu_los.sum() / (len(kind_data) + 1), 2)\n",
    "    all_info[kind] = info\n",
    "brand_fe = pd.DataFrame(all_info).T.reset_index().rename(columns={\"index\": \"is_male\"})\n",
    "data = data.merge(brand_fe, how='left', on='is_male')\n",
    "\n",
    "\n",
    "\n"
   ]
  },
  {
   "cell_type": "code",
   "execution_count": 10,
   "metadata": {},
   "outputs": [
    {
     "data": {
      "text/html": [
       "<div>\n",
       "<style scoped>\n",
       "    .dataframe tbody tr th:only-of-type {\n",
       "        vertical-align: middle;\n",
       "    }\n",
       "\n",
       "    .dataframe tbody tr th {\n",
       "        vertical-align: top;\n",
       "    }\n",
       "\n",
       "    .dataframe thead th {\n",
       "        text-align: right;\n",
       "    }\n",
       "</style>\n",
       "<table border=\"1\" class=\"dataframe\">\n",
       "  <thead>\n",
       "    <tr style=\"text-align: right;\">\n",
       "      <th></th>\n",
       "      <th>age_bin</th>\n",
       "      <th>age</th>\n",
       "    </tr>\n",
       "  </thead>\n",
       "  <tbody>\n",
       "    <tr>\n",
       "      <th>0</th>\n",
       "      <td>8</td>\n",
       "      <td>83.6432</td>\n",
       "    </tr>\n",
       "    <tr>\n",
       "      <th>1</th>\n",
       "      <td>6</td>\n",
       "      <td>64.3080</td>\n",
       "    </tr>\n",
       "    <tr>\n",
       "      <th>2</th>\n",
       "      <td>5</td>\n",
       "      <td>56.5050</td>\n",
       "    </tr>\n",
       "    <tr>\n",
       "      <th>3</th>\n",
       "      <td>6</td>\n",
       "      <td>69.3102</td>\n",
       "    </tr>\n",
       "    <tr>\n",
       "      <th>4</th>\n",
       "      <td>8</td>\n",
       "      <td>86.2825</td>\n",
       "    </tr>\n",
       "    <tr>\n",
       "      <th>5731</th>\n",
       "      <td>7</td>\n",
       "      <td>72.3904</td>\n",
       "    </tr>\n",
       "    <tr>\n",
       "      <th>5732</th>\n",
       "      <td>5</td>\n",
       "      <td>57.6494</td>\n",
       "    </tr>\n",
       "    <tr>\n",
       "      <th>5733</th>\n",
       "      <td>2</td>\n",
       "      <td>22.9327</td>\n",
       "    </tr>\n",
       "    <tr>\n",
       "      <th>5734</th>\n",
       "      <td>7</td>\n",
       "      <td>75.9332</td>\n",
       "    </tr>\n",
       "    <tr>\n",
       "      <th>5735</th>\n",
       "      <td>8</td>\n",
       "      <td>86.9560</td>\n",
       "    </tr>\n",
       "  </tbody>\n",
       "</table>\n",
       "</div>"
      ],
      "text/plain": [
       "      age_bin      age\n",
       "0           8  83.6432\n",
       "1           6  64.3080\n",
       "2           5  56.5050\n",
       "3           6  69.3102\n",
       "4           8  86.2825\n",
       "5731        7  72.3904\n",
       "5732        5  57.6494\n",
       "5733        2  22.9327\n",
       "5734        7  75.9332\n",
       "5735        8  86.9560"
      ]
     },
     "execution_count": 10,
     "metadata": {},
     "output_type": "execute_result"
    }
   ],
   "source": [
    "# 数据分桶 以 power 为例\n",
    "# 这时候我们的缺失值也进桶了，\n",
    "# 为什么要做数据分桶呢，原因有很多，= =\n",
    "# 1. 离散后稀疏向量内积乘法运算速度更快，计算结果也方便存储，容易扩展；\n",
    "# 2. 离散后的特征对异常值更具鲁棒性，如 age>30 为 1 否则为 0，对于年龄为 200 的也不会对模型造成很大的干扰；\n",
    "# 3. LR 属于广义线性模型，表达能力有限，经过离散化后，每个变量有单独的权重，这相当于引入了非线性，能够提升模型的表达能力，加大拟合；\n",
    "# 4. 离散后特征可以进行特征交叉，提升表达能力，由 M+N 个变量编程 M*N 个变量，进一步引入非线形，提升了表达能力；\n",
    "# 5. 特征离散后模型更稳定，如用户年龄区间，不会因为用户年龄长了一岁就变化\n",
    "\n",
    "# 当然还有很多原因，LightGBM 在改进 XGBoost 时就增加了数据分桶，增强了模型的泛化性\n",
    "\n",
    "#大佬说年龄可以分桶，那我这里就以年龄来举例\n",
    "bin = [i*10 for i in range(90)]\n",
    "data['age_bin'] = pd.cut(data['age'], bin, labels=False)\n",
    "data[['age_bin', 'age']].head().append(data[['age_bin', 'age']].tail())"
   ]
  },
  {
   "cell_type": "code",
   "execution_count": 11,
   "metadata": {},
   "outputs": [
    {
     "name": "stdout",
     "output_type": "stream",
     "text": [
      "(5736, 75)\n"
     ]
    },
    {
     "data": {
      "text/plain": [
       "Index(['positiveculture_poe', 'age', 'is_male', 'race_black', 'race_white',\n",
       "       'race_hispanic', 'race_other', 'height', 'weight', 'aniongap_min',\n",
       "       'aniongap_max', 'bicarbonate_min', 'bicarbonate_max', 'bilirubin_min',\n",
       "       'bilirubin_max', 'creatinine_min', 'creatinine_max', 'chloride_min',\n",
       "       'chloride_max', 'glucose_min', 'glucose_max', 'hematocrit_min',\n",
       "       'hematocrit_max', 'hemoglobin_min', 'hemoglobin_max', 'lactate_min',\n",
       "       'lactate_max', 'platelet_min', 'platelet_max', 'potassium_min',\n",
       "       'potassium_max', 'ptt_min', 'ptt_max', 'inr_min', 'inr_max', 'pt_min',\n",
       "       'pt_max', 'sodium_min', 'sodium_max', 'bun_min', 'bun_max', 'wbc_min',\n",
       "       'wbc_max', 'heartrate_min', 'heartrate_max', 'heartrate_mean',\n",
       "       'sysbp_min', 'sysbp_max', 'sysbp_mean', 'diasbp_min', 'diasbp_max',\n",
       "       'diasbp_mean', 'meanbp_min', 'meanbp_max', 'meanbp_mean',\n",
       "       'resprate_min', 'resprate_max', 'resprate_mean', 'tempc_min',\n",
       "       'tempc_max', 'tempc_mean', 'spo2_min', 'spo2_max', 'spo2_mean',\n",
       "       'glucose_mean', 'icu_los', 'train', 'is_male_amount',\n",
       "       'is_male_icu_los_max', 'is_male_icu_los_median', 'is_male_icu_los_min',\n",
       "       'is_male_icu_los_sum', 'is_male_icu_los_std', 'is_male_icu_los_average',\n",
       "       'age_bin'],\n",
       "      dtype='object')"
      ]
     },
     "execution_count": 11,
     "metadata": {},
     "output_type": "execute_result"
    }
   ],
   "source": [
    "print(data.shape)\n",
    "data.columns"
   ]
  },
  {
   "cell_type": "code",
   "execution_count": 12,
   "metadata": {},
   "outputs": [],
   "source": [
    "# 目前的数据其实已经可以给树模型使用了，所以我们导出一下\n",
    "data.to_csv('patients_for_tree.csv', index=0)"
   ]
  },
  {
   "cell_type": "code",
   "execution_count": 13,
   "metadata": {},
   "outputs": [
    {
     "data": {
      "text/plain": [
       "<matplotlib.axes._subplots.AxesSubplot at 0x1d0831dcb70>"
      ]
     },
     "execution_count": 13,
     "metadata": {},
     "output_type": "execute_result"
    },
    {
     "data": {
      "image/png": "[encoded data removed]",
      "text/plain": [
       "<Figure size 432x288 with 1 Axes>"
      ]
     },
     "metadata": {
      "needs_background": "light"
     },
     "output_type": "display_data"
    }
   ],
   "source": [
    "# 我们可以再构造一份特征给 LR NN 之类的模型用\n",
    "# 之所以分开构造是因为，不同模型对数据集的要求不同\n",
    "# 我们看下数据分布：(随意取得，ICU中肌酐常常会偏高)\n",
    "data['creatinine_max'].plot.hist()"
   ]
  },
  {
   "cell_type": "code",
   "execution_count": 14,
   "metadata": {},
   "outputs": [
    {
     "data": {
      "text/plain": [
       "<matplotlib.axes._subplots.AxesSubplot at 0x1d083283160>"
      ]
     },
     "execution_count": 14,
     "metadata": {},
     "output_type": "execute_result"
    },
    {
     "data": {
      "image/png": "[encoded data removed]",
      "text/plain": [
       "<Figure size 432x288 with 1 Axes>"
      ]
     },
     "metadata": {
      "needs_background": "light"
     },
     "output_type": "display_data"
    }
   ],
   "source": [
    "Train_data['creatinine_max'].plot.hist()"
   ]
  },
  {
   "cell_type": "code",
   "execution_count": 15,
   "metadata": {},
   "outputs": [
    {
     "data": {
      "text/plain": [
       "<matplotlib.axes._subplots.AxesSubplot at 0x1d0832f2588>"
      ]
     },
     "execution_count": 15,
     "metadata": {},
     "output_type": "execute_result"
    },
    {
     "data": {
      "image/png": "[encoded data removed]",
      "text/plain": [
       "<Figure size 432x288 with 1 Axes>"
      ]
     },
     "metadata": {
      "needs_background": "light"
     },
     "output_type": "display_data"
    }
   ],
   "source": [
    "# 我们对其取 log，在做归一化\n",
    "from sklearn import preprocessing\n",
    "min_max_scaler = preprocessing.MinMaxScaler()\n",
    "data['creatinine_max'] = np.log(data['creatinine_max'] + 1) \n",
    "data['creatinine_max'] = ((data['creatinine_max'] - np.min(data['creatinine_max'])) / (np.max(data['creatinine_max']) - np.min(data['creatinine_max'])))\n",
    "data['creatinine_max'].plot.hist()"
   ]
  },
  {
   "cell_type": "code",
   "execution_count": 16,
   "metadata": {},
   "outputs": [
    {
     "data": {
      "text/plain": [
       "<matplotlib.axes._subplots.AxesSubplot at 0x1d083437be0>"
      ]
     },
     "execution_count": 16,
     "metadata": {},
     "output_type": "execute_result"
    },
    {
     "data": {
      "image/png": "[encoded data removed]",
      "text/plain": [
       "<Figure size 432x288 with 1 Axes>"
      ]
     },
     "metadata": {
      "needs_background": "light"
     },
     "output_type": "display_data"
    }
   ],
   "source": [
    "data['weight'].plot.hist()"
   ]
  },
  {
   "cell_type": "code",
   "execution_count": 17,
   "metadata": {},
   "outputs": [
    {
     "data": {
      "text/plain": [
       "<matplotlib.axes._subplots.AxesSubplot at 0x1d0830cd518>"
      ]
     },
     "execution_count": 17,
     "metadata": {},
     "output_type": "execute_result"
    },
    {
     "data": {
      "image/png": "[encoded data removed]",
      "text/plain": [
       "<Figure size 432x288 with 1 Axes>"
      ]
     },
     "metadata": {
      "needs_background": "light"
     },
     "output_type": "display_data"
    }
   ],
   "source": [
    "# 直接做归一化\n",
    "data['weight'] = ((data['weight'] - np.min(data['weight'])) / \n",
    "                        (np.max(data['weight']) - np.min(data['weight'])))\n",
    "data['weight'].plot.hist()"
   ]
  },
  {
   "cell_type": "code",
   "execution_count": 19,
   "metadata": {},
   "outputs": [],
   "source": [
    "# 这里不再一一举例分析了，直接做变换，\n",
    "def max_min(x):\n",
    "    return (x - np.min(x)) / (np.max(x) - np.min(x))\n",
    "\n",
    "data['is_male_amount'] = ((data['is_male_amount'] - np.min(data['is_male_amount'])) / \n",
    "                        (np.max(data['is_male_amount']) - np.min(data['is_male_amount'])))\n",
    "data['is_male_icu_los_max'] = ((data['is_male_icu_los_max'] - np.min(data['is_male_icu_los_max'])) / \n",
    "                               (np.max(data['is_male_icu_los_max']) - np.min(data['is_male_icu_los_max'])))\n",
    "data['is_male_icu_los_average'] = ((data['is_male_icu_los_average'] - np.min(data['is_male_icu_los_average'])) / \n",
    "                           (np.max(data['is_male_icu_los_average']) - np.min(data['is_male_icu_los_average'])))\n",
    "data['is_male_icu_los_median'] = ((data['is_male_icu_los_median'] - np.min(data['is_male_icu_los_median'])) /\n",
    "                              (np.max(data['is_male_icu_los_median']) - np.min(data['is_male_icu_los_median'])))\n",
    "data['is_male_icu_los_min'] = ((data['is_male_icu_los_min'] - np.min(data['is_male_icu_los_min'])) / \n",
    "                           (np.max(data['is_male_icu_los_min']) - np.min(data['is_male_icu_los_min'])))\n",
    "data['is_male_icu_los_std'] = ((data['is_male_icu_los_std'] - np.min(data['is_male_icu_los_std'])) / \n",
    "                           (np.max(data['is_male_icu_los_std']) - np.min(data['is_male_icu_los_std'])))\n",
    "data['is_male_icu_los_sum'] = ((data['is_male_icu_los_sum'] - np.min(data['is_male_icu_los_sum'])) / \n",
    "                           (np.max(data['is_male_icu_los_sum']) - np.min(data['is_male_icu_los_sum'])))"
   ]
  },
  {
   "cell_type": "code",
   "execution_count": 20,
   "metadata": {},
   "outputs": [],
   "source": [
    "# 对类别特征进行 OneEncoder\n",
    "data = pd.get_dummies(data, columns=['is_male','race_black','race_white',\n",
    "                                     'race_hispanic','race_other','positiveculture_poe'])"
   ]
  },
  {
   "cell_type": "code",
   "execution_count": 21,
   "metadata": {},
   "outputs": [
    {
     "name": "stdout",
     "output_type": "stream",
     "text": [
      "(5736, 81)\n"
     ]
    },
    {
     "data": {
      "text/plain": [
       "Index(['age', 'height', 'weight', 'aniongap_min', 'aniongap_max',\n",
       "       'bicarbonate_min', 'bicarbonate_max', 'bilirubin_min', 'bilirubin_max',\n",
       "       'creatinine_min', 'creatinine_max', 'chloride_min', 'chloride_max',\n",
       "       'glucose_min', 'glucose_max', 'hematocrit_min', 'hematocrit_max',\n",
       "       'hemoglobin_min', 'hemoglobin_max', 'lactate_min', 'lactate_max',\n",
       "       'platelet_min', 'platelet_max', 'potassium_min', 'potassium_max',\n",
       "       'ptt_min', 'ptt_max', 'inr_min', 'inr_max', 'pt_min', 'pt_max',\n",
       "       'sodium_min', 'sodium_max', 'bun_min', 'bun_max', 'wbc_min', 'wbc_max',\n",
       "       'heartrate_min', 'heartrate_max', 'heartrate_mean', 'sysbp_min',\n",
       "       'sysbp_max', 'sysbp_mean', 'diasbp_min', 'diasbp_max', 'diasbp_mean',\n",
       "       'meanbp_min', 'meanbp_max', 'meanbp_mean', 'resprate_min',\n",
       "       'resprate_max', 'resprate_mean', 'tempc_min', 'tempc_max', 'tempc_mean',\n",
       "       'spo2_min', 'spo2_max', 'spo2_mean', 'glucose_mean', 'icu_los', 'train',\n",
       "       'is_male_amount', 'is_male_icu_los_max', 'is_male_icu_los_median',\n",
       "       'is_male_icu_los_min', 'is_male_icu_los_sum', 'is_male_icu_los_std',\n",
       "       'is_male_icu_los_average', 'age_bin', 'is_male_0', 'is_male_1',\n",
       "       'race_black_0', 'race_black_1', 'race_white_0', 'race_white_1',\n",
       "       'race_hispanic_0', 'race_hispanic_1', 'race_other_0', 'race_other_1',\n",
       "       'positiveculture_poe_0', 'positiveculture_poe_1'],\n",
       "      dtype='object')"
      ]
     },
     "execution_count": 21,
     "metadata": {},
     "output_type": "execute_result"
    }
   ],
   "source": [
    "print(data.shape)\n",
    "data.columns"
   ]
  },
  {
   "cell_type": "code",
   "execution_count": 22,
   "metadata": {},
   "outputs": [],
   "source": [
    "# 这份数据可以给 LR 用\n",
    "data.to_csv('patients_for_lr.csv', index=0)"
   ]
  },
  {
   "cell_type": "markdown",
   "metadata": {},
   "source": [
    "## 特征筛选"
   ]
  },
  {
   "cell_type": "markdown",
   "metadata": {},
   "source": [
    "### 过滤式"
   ]
  },
  {
   "cell_type": "code",
   "execution_count": 23,
   "metadata": {},
   "outputs": [
    {
     "name": "stdout",
     "output_type": "stream",
     "text": [
      "0.08049339231753225\n",
      "0.05301012706899176\n",
      "0.07824408515046156\n",
      "0.044554601705266844\n",
      "0.09899420393422068\n",
      "-0.03446927297544339\n"
     ]
    }
   ],
   "source": [
    "# 相关性分析\n",
    "print(data['aniongap_max'].corr(data['icu_los'], method='spearman'))\n",
    "print(data['creatinine_max'].corr(data['icu_los'], method='spearman'))\n",
    "print(data['chloride_max'].corr(data['icu_los'], method='spearman'))\n",
    "print(data['hemoglobin_max'].corr(data['icu_los'], method='spearman'))\n",
    "print(data['lactate_max'].corr(data['icu_los'], method='spearman'))\n",
    "print(data['sysbp_mean'].corr(data['icu_los'], method='spearman'))"
   ]
  },
  {
   "cell_type": "code",
   "execution_count": 28,
   "metadata": {},
   "outputs": [
    {
     "data": {
      "text/plain": [
       "<matplotlib.axes._subplots.AxesSubplot at 0x1d084f64208>"
      ]
     },
     "execution_count": 28,
     "metadata": {},
     "output_type": "execute_result"
    },
    {
     "data": {
      "image/png": "[encoded data removed]",
      "text/plain": [
       "<Figure size 504x504 with 2 Axes>"
      ]
     },
     "metadata": {
      "needs_background": "light"
     },
     "output_type": "display_data"
    }
   ],
   "source": [
    "# 当然也可以直接看图\n",
    "data_numeric = data[['aniongap_max', 'creatinine_max', 'chloride_max', 'hemoglobin_max', \n",
    "                     'lactate_max', 'sysbp_mean']]\n",
    "correlation = data_numeric.corr()\n",
    "\n",
    "f , ax = plt.subplots(figsize = (7, 7))\n",
    "plt.title('Correlation of Numeric Features with icu_los',y=1,size=16)\n",
    "sns.heatmap(correlation,square = True,  vmax=0.10)"
   ]
  },
  {
   "cell_type": "markdown",
   "metadata": {},
   "source": [
    "### 包裹式"
   ]
  },
  {
   "cell_type": "code",
   "execution_count": 29,
   "metadata": {},
   "outputs": [
    {
     "data": {
      "text/plain": [
       "('age',\n",
       " 'weight',\n",
       " 'hematocrit_max',\n",
       " 'ptt_max',\n",
       " 'bun_min',\n",
       " 'meanbp_max',\n",
       " 'resprate_mean',\n",
       " 'tempc_min',\n",
       " 'tempc_max',\n",
       " 'spo2_mean')"
      ]
     },
     "execution_count": 29,
     "metadata": {},
     "output_type": "execute_result"
    }
   ],
   "source": [
    "# k_feature 太大会很难跑，没服务器，所以提前 interrupt 了\n",
    "from mlxtend.feature_selection import SequentialFeatureSelector as SFS\n",
    "from sklearn.linear_model import LinearRegression\n",
    "sfs = SFS(LinearRegression(),\n",
    "           k_features=10,\n",
    "           forward=True,\n",
    "           floating=False,\n",
    "           scoring = 'r2',\n",
    "           cv = 0)\n",
    "x = data.drop(['icu_los'], axis=1)\n",
    "x = x.fillna(0)\n",
    "y = data['icu_los']\n",
    "sfs.fit(x, y)\n",
    "sfs.k_feature_names_ "
   ]
  },
  {
   "cell_type": "code",
   "execution_count": 30,
   "metadata": {},
   "outputs": [
    {
     "name": "stderr",
     "output_type": "stream",
     "text": [
      "C:\\Users\\58297\\.conda\\envs\\tf2.0\\lib\\site-packages\\numpy\\core\\_methods.py:217: RuntimeWarning: Degrees of freedom <= 0 for slice\n",
      "  keepdims=keepdims)\n",
      "C:\\Users\\58297\\.conda\\envs\\tf2.0\\lib\\site-packages\\numpy\\core\\_methods.py:209: RuntimeWarning: invalid value encountered in double_scalars\n",
      "  ret = ret.dtype.type(ret / rcount)\n"
     ]
    },
    {
     "data": {
      "image/png": "[encoded data removed]",
      "text/plain": [
       "<Figure size 432x288 with 1 Axes>"
      ]
     },
     "metadata": {
      "needs_background": "light"
     },
     "output_type": "display_data"
    }
   ],
   "source": [
    "# 画出来，可以看到边际效益\n",
    "from mlxtend.plotting import plot_sequential_feature_selection as plot_sfs\n",
    "import matplotlib.pyplot as plt\n",
    "fig1 = plot_sfs(sfs.get_metric_dict(), kind='std_dev')\n",
    "plt.grid()\n",
    "plt.show()"
   ]
  },
  {
   "cell_type": "markdown",
   "metadata": {},
   "source": [
    "### 嵌入式\n",
    "* 下一次打卡"
   ]
  },
  {
   "cell_type": "markdown",
   "metadata": {},
   "source": [
    "# 经验总结"
   ]
  },
  {
   "cell_type": "markdown",
   "metadata": {},
   "source": [
    "* 特征构造也属于特征工程的一部分，其目的是为了增强数据的表达\n",
    "* 匿名特征，这导致我们并不清楚特征相互直接的关联性，这时我们就只有单纯基于特征进行处理，比如装箱，groupby，agg 等这样一些操作进行一些特征统计，此外还可以对特征进行进一步的 log，exp 等变换，或者对多个特征进行四则运算（如上面我们算出的使用时长），多项式组合等然后进行筛选。由于特性的匿名性其实限制了很多对于特征的处理，当然有些时候用 NN 去提取一些特征也会达到意想不到的良好效果。\n",
    "* 对于知道特征含义（非匿名）的特征工程，特别是在工业类型比赛中，会基于信号处理，频域提取，丰度，偏度等构建更为有实际意义的特征，这就是结合背景的特征构建，在推荐系统中也是这样的，各种类型点击率统计，各时段统计，加用户属性的统计等等，这样一种特征构建往往要深入分析背后的业务逻辑或者说物理原理，从而才能更好的找到 magic。\n",
    "* 特征工程的主要目的还是在于将数据转换为能更好地表示潜在问题的特征，从而提高机器学习的性能。\n",
    "* 异常值处理是为了去除噪声；填补缺失值可以加入先验知识等；\n",
    "\n",
    "** 上面都是阿泽老师总结好了的知识，自己以前在简单的机器学习建模中只运用简单的处理缺失值、归一化和onehot，还有很多特征工程的技术还需要学习。群里面的老师同学们还分享了两本电子版的特征工程书，非常感谢大家的无私指导。"
   ]
  }
 ],
 "metadata": {
  "kernelspec": {
   "display_name": "Python 3",
   "language": "python",
   "name": "python3"
  },
  "language_info": {
   "codemirror_mode": {
    "name": "ipython",
    "version": 3
   },
   "file_extension": ".py",
   "mimetype": "text/x-python",
   "name": "python",
   "nbconvert_exporter": "python",
   "pygments_lexer": "ipython3",
   "version": "3.6.9"
  }
 },
 "nbformat": 4,
 "nbformat_minor": 2
}
